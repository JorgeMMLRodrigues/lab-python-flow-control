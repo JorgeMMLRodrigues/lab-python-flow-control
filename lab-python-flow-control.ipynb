{
 "cells": [
  {
   "cell_type": "markdown",
   "id": "d3bfc191-8885-42ee-b0a0-bbab867c6f9f",
   "metadata": {
    "tags": []
   },
   "source": [
    "# Lab | Flow Control"
   ]
  },
  {
   "cell_type": "markdown",
   "id": "3851fcd1-cf98-4653-9c89-e003b7ec9400",
   "metadata": {},
   "source": [
    "## Exercise: Managing Customer Orders Optimized\n",
    "\n",
    "In the last lab, you were starting an online store that sells various products. To ensure smooth operations, you developed a program that manages customer orders and inventory.\n",
    "\n",
    "You did so without using flow control. Let's go a step further and improve this code.\n",
    "\n",
    "Follow the steps below to complete the exercise:\n",
    "\n",
    "1. Look at your code from the lab data structures, and improve repeated code with loops.\n",
    "\n",
    "2. Instead of asking the user to input the name of three products that a customer wants to order, do the following:\n",
    "    \n",
    "    a. Prompt the user to enter the name of a product that a customer wants to order.\n",
    "    \n",
    "    b. Add the product name to the \"customer_orders\" set.\n",
    "    \n",
    "    c. Ask the user if they want to add another product (yes/no).\n",
    "    \n",
    "    d. Continue the loop until the user does not want to add another product.\n",
    "\n",
    "3. Instead of updating the inventory by subtracting 1 from the quantity of each product, only do it for  the products that were ordered (those in \"customer_orders\")."
   ]
  },
  {
   "cell_type": "code",
   "execution_count": null,
   "id": "7fca224b-5809-4ff4-84da-e8f9536f2873",
   "metadata": {},
   "outputs": [
    {
     "name": "stdout",
     "output_type": "stream",
     "text": [
      "\n",
      "Available Products:  {'mug': 5, 't-shirt': 3, 'hat': 4, 'book': 6, 'keychain': 10}\n",
      "Sorry, only 5 mug(s) available.\n",
      "\n",
      "Available Products:  {'mug': 5, 't-shirt': 3, 'hat': 4, 'book': 6, 'keychain': 10}\n",
      "Sorry, only 6 book(s) available.\n",
      "\n",
      "Available Products:  {'mug': 5, 't-shirt': 3, 'hat': 4, 'book': 6, 'keychain': 10}\n",
      "Sorry, only 4 hat(s) available.\n",
      "\n",
      "Available Products:  {'mug': 5, 't-shirt': 3, 'hat': 4, 'book': 6, 'keychain': 10}\n",
      "\n",
      "Order updated: {'keychain': 10}\n",
      "Remaining inventory: {'mug': 5, 't-shirt': 3, 'hat': 4, 'book': 6, 'keychain': 0}\n",
      "\n",
      "Thank you for your order!\n",
      "Your final order is: {'keychain': 10}\n"
     ]
    }
   ],
   "source": [
    "inventory = {\n",
    "    'mug': 5,\n",
    "    't-shirt': 3,\n",
    "    'hat': 4,\n",
    "    'book': 6,\n",
    "    'keychain': 10\n",
    "}\n",
    "\n",
    "customer_orders = {}\n",
    "\n",
    "while True:\n",
    "    print(\"\\nAvailable Products: \", {item: qty for item, qty in inventory.items() if qty > 0})\n",
    "\n",
    "    user_input = input(\"Enter the product name you want to order: \").strip().lower()\n",
    "\n",
    "    if user_input not in inventory or inventory[user_input] == 0:\n",
    "        print(\"Product not recognized or out of stock.\")\n",
    "        continue\n",
    "\n",
    "    quantity = input(f\"How many {user_input}s would you like to order? (Available: {inventory[user_input]}): \")\n",
    "\n",
    "    if not quantity.isdigit() or int(quantity) <= 0:\n",
    "        print(\"Invalid quantity. Please enter a valid number.\")\n",
    "        continue\n",
    "\n",
    "    quantity = int(quantity)\n",
    "\n",
    "    if quantity > inventory[user_input]:\n",
    "        print(f\"Sorry, only {inventory[user_input]} {user_input}(s) available.\")\n",
    "        continue\n",
    "\n",
    " \n",
    "    customer_orders[user_input] = customer_orders.get(user_input, 0) + quantity\n",
    "\n",
    "\n",
    "    inventory[user_input] -= quantity\n",
    "\n",
    "    print(f\"\\nOrder updated: {customer_orders}\")\n",
    "    print(f\"Remaining inventory: {inventory}\")\n",
    "\n",
    "    continue_choice = input(\"Do you want to add more items to your order? (yes/no): \").strip().lower()\n",
    "    \n",
    "    if continue_choice != 'yes':\n",
    "        print(\"\\nThank you for your order!\")\n",
    "        print(\"Your final order is:\", customer_orders)\n",
    "        break\n"
   ]
  },
  {
   "cell_type": "code",
   "execution_count": null,
   "id": "17ba8f68-444b-477a-b4be-f5bbed964b9a",
   "metadata": {},
   "outputs": [],
   "source": []
  },
  {
   "cell_type": "code",
   "execution_count": null,
   "id": "8381d7ff-c442-4cb1-b93b-917ea3f68d0a",
   "metadata": {},
   "outputs": [],
   "source": []
  }
 ],
 "metadata": {
  "kernelspec": {
   "display_name": "base",
   "language": "python",
   "name": "python3"
  },
  "language_info": {
   "codemirror_mode": {
    "name": "ipython",
    "version": 3
   },
   "file_extension": ".py",
   "mimetype": "text/x-python",
   "name": "python",
   "nbconvert_exporter": "python",
   "pygments_lexer": "ipython3",
   "version": "3.12.3"
  }
 },
 "nbformat": 4,
 "nbformat_minor": 5
}
